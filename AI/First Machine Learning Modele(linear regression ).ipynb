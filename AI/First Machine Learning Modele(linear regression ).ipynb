{
 "cells": [
  {
   "cell_type": "code",
   "execution_count": 5,
   "id": "8fb2f7c4-09ba-4940-947e-9aa38d35d063",
   "metadata": {},
   "outputs": [],
   "source": [
    "import numpy as np"
   ]
  },
  {
   "cell_type": "code",
   "execution_count": 7,
   "id": "0405e8f8-9534-42ef-9a22-a7d4991d5059",
   "metadata": {},
   "outputs": [],
   "source": [
    "from sklearn.datasets import make_regression #data set aléatoire "
   ]
  },
  {
   "cell_type": "code",
   "execution_count": 8,
   "id": "ff7470af-50a9-497b-ab43-4d84ae8293de",
   "metadata": {},
   "outputs": [],
   "source": [
    "import matplotlib.pyplot as plt #bibliotheque pour visualisé nos données "
   ]
  },
  {
   "cell_type": "code",
   "execution_count": 67,
   "id": "e140c912-d4fb-41d7-a34f-147994647844",
   "metadata": {},
   "outputs": [
    {
     "data": {
      "text/plain": [
       "<matplotlib.collections.PathCollection at 0x22658755a30>"
      ]
     },
     "execution_count": 67,
     "metadata": {},
     "output_type": "execute_result"
    },
    {
     "data": {
      "image/png": "[encoded data removed]",
      "text/plain": [
       "<Figure size 640x480 with 1 Axes>"
      ]
     },
     "metadata": {},
     "output_type": "display_data"
    }
   ],
   "source": [
    "#1/Dataset \n",
    "x,y =make_regression(n_samples =100 ,n_features=1 ,noise=10 )#nbvdonnées et nb variable et le bruit\n",
    "plt.scatter(x,y) # x en abssice et y en ordonné "
   ]
  },
  {
   "cell_type": "code",
   "execution_count": 11,
   "id": "08946255-41b6-4d1c-bc96-15e7f8d19786",
   "metadata": {},
   "outputs": [
    {
     "name": "stdout",
     "output_type": "stream",
     "text": [
      "(100, 1)\n",
      "(100,)\n"
     ]
    }
   ],
   "source": [
    "print(x.shape)\n",
    "print(y.shape)\n",
    "#important de verifier les dimensions des matrices car sinon\n",
    "#ça va faire du n'importe quoi elle va affiché à la fin des traits partout et pour chaque valeur"
   ]
  },
  {
   "cell_type": "code",
   "execution_count": 12,
   "id": "8322c10a-b5ef-4f55-8c89-ca1db284443d",
   "metadata": {},
   "outputs": [
    {
     "name": "stdout",
     "output_type": "stream",
     "text": [
      "(100, 1)\n"
     ]
    }
   ],
   "source": [
    "y=y.reshape(y.shape[0],1)\n",
    "print(y.shape)"
   ]
  },
  {
   "cell_type": "code",
   "execution_count": 17,
   "id": "0e9cd587-61e8-4ce9-966d-a9a170092f7e",
   "metadata": {},
   "outputs": [
    {
     "data": {
      "text/plain": [
       "array([[-0.71630125,  1.        ],\n",
       "       [-0.60668532,  1.        ],\n",
       "       [ 4.35290183,  1.        ],\n",
       "       [ 1.44671652,  1.        ],\n",
       "       [ 0.86412162,  1.        ],\n",
       "       [ 0.38635336,  1.        ],\n",
       "       [-1.23309232,  1.        ],\n",
       "       [ 1.16371272,  1.        ],\n",
       "       [ 1.26343367,  1.        ],\n",
       "       [ 0.64536051,  1.        ],\n",
       "       [-0.55666188,  1.        ],\n",
       "       [ 0.10295857,  1.        ],\n",
       "       [-0.96110675,  1.        ],\n",
       "       [ 0.71811834,  1.        ],\n",
       "       [ 0.10118678,  1.        ],\n",
       "       [-0.63011141,  1.        ],\n",
       "       [-0.80605902,  1.        ],\n",
       "       [-0.4115749 ,  1.        ],\n",
       "       [ 0.24757588,  1.        ],\n",
       "       [-0.26325044,  1.        ],\n",
       "       [-0.04507475,  1.        ],\n",
       "       [ 0.10037926,  1.        ],\n",
       "       [-0.59300111,  1.        ],\n",
       "       [-0.59711051,  1.        ],\n",
       "       [-1.25037483,  1.        ],\n",
       "       [ 0.71918861,  1.        ],\n",
       "       [ 0.96813449,  1.        ],\n",
       "       [-1.27735676,  1.        ],\n",
       "       [-0.77551029,  1.        ],\n",
       "       [ 1.85052291,  1.        ],\n",
       "       [ 1.25140328,  1.        ],\n",
       "       [-1.26021396,  1.        ],\n",
       "       [-0.5879265 ,  1.        ],\n",
       "       [-0.56057175,  1.        ],\n",
       "       [-0.77314955,  1.        ],\n",
       "       [ 1.23919356,  1.        ],\n",
       "       [-0.02390158,  1.        ],\n",
       "       [ 0.2723076 ,  1.        ],\n",
       "       [-1.60045729,  1.        ],\n",
       "       [ 0.95966432,  1.        ],\n",
       "       [ 0.96122224,  1.        ],\n",
       "       [ 1.17908859,  1.        ],\n",
       "       [ 1.28532695,  1.        ],\n",
       "       [-0.38465635,  1.        ],\n",
       "       [ 0.48176597,  1.        ],\n",
       "       [ 0.36522326,  1.        ],\n",
       "       [ 1.81227994,  1.        ],\n",
       "       [ 0.66210918,  1.        ],\n",
       "       [-0.56259579,  1.        ],\n",
       "       [ 0.81593738,  1.        ],\n",
       "       [-1.29404019,  1.        ],\n",
       "       [ 0.83841923,  1.        ],\n",
       "       [ 0.2507341 ,  1.        ],\n",
       "       [ 1.24498722,  1.        ],\n",
       "       [-0.41784826,  1.        ],\n",
       "       [ 0.07024968,  1.        ],\n",
       "       [ 0.46605372,  1.        ],\n",
       "       [ 0.46056543,  1.        ],\n",
       "       [-1.10829401,  1.        ],\n",
       "       [ 1.6279003 ,  1.        ],\n",
       "       [-0.8216439 ,  1.        ],\n",
       "       [-0.59952096,  1.        ],\n",
       "       [ 1.30208391,  1.        ],\n",
       "       [ 0.66688865,  1.        ],\n",
       "       [-0.20189409,  1.        ],\n",
       "       [ 0.83596474,  1.        ],\n",
       "       [-0.40068327,  1.        ],\n",
       "       [ 0.6244696 ,  1.        ],\n",
       "       [ 1.94792672,  1.        ],\n",
       "       [-0.59342807,  1.        ],\n",
       "       [-0.22117689,  1.        ],\n",
       "       [-0.94086441,  1.        ],\n",
       "       [ 0.98871586,  1.        ],\n",
       "       [ 0.27185215,  1.        ],\n",
       "       [-1.3237029 ,  1.        ],\n",
       "       [-1.46572878,  1.        ],\n",
       "       [-0.40585356,  1.        ],\n",
       "       [-1.27486538,  1.        ],\n",
       "       [-0.49226998,  1.        ],\n",
       "       [-0.44849879,  1.        ],\n",
       "       [ 0.50549423,  1.        ],\n",
       "       [-0.56128618,  1.        ],\n",
       "       [-0.67406022,  1.        ],\n",
       "       [ 0.70996984,  1.        ],\n",
       "       [ 0.37396869,  1.        ],\n",
       "       [ 0.1915703 ,  1.        ],\n",
       "       [-0.21485805,  1.        ],\n",
       "       [ 0.05604254,  1.        ],\n",
       "       [-0.40551463,  1.        ],\n",
       "       [ 0.03874365,  1.        ],\n",
       "       [ 2.32570866,  1.        ],\n",
       "       [-0.04073487,  1.        ],\n",
       "       [ 1.64746654,  1.        ],\n",
       "       [ 0.85319271,  1.        ],\n",
       "       [ 1.0364872 ,  1.        ],\n",
       "       [ 0.49938138,  1.        ],\n",
       "       [-1.07377136,  1.        ],\n",
       "       [-1.3327014 ,  1.        ],\n",
       "       [ 1.52349167,  1.        ],\n",
       "       [-2.17514804,  1.        ]])"
      ]
     },
     "execution_count": 17,
     "metadata": {},
     "output_type": "execute_result"
    }
   ],
   "source": [
    "#matrice \n",
    "X=np.hstack((x, np.ones(x.shape)))\n",
    "X"
   ]
  },
  {
   "cell_type": "code",
   "execution_count": 19,
   "id": "9e2077b1-1c14-415d-90c3-e8a565b80dcf",
   "metadata": {},
   "outputs": [
    {
     "data": {
      "text/plain": [
       "array([[-0.05191254],\n",
       "       [ 0.26189673]])"
      ]
     },
     "execution_count": 19,
     "metadata": {},
     "output_type": "execute_result"
    }
   ],
   "source": [
    "theta =np.random.randn(2,1)\n",
    "theta"
   ]
  },
  {
   "cell_type": "code",
   "execution_count": 21,
   "id": "1b7421c1-2ff0-455f-a75c-f071ae091aa0",
   "metadata": {},
   "outputs": [],
   "source": [
    "#modele"
   ]
  },
  {
   "cell_type": "code",
   "execution_count": 23,
   "id": "0290c85a-040d-4a5d-a1d7-c12142beac70",
   "metadata": {},
   "outputs": [],
   "source": [
    "def modele(X,theta):\n",
    "    return X.dot(theta) #multiplication entre matrices ou arrays"
   ]
  },
  {
   "cell_type": "code",
   "execution_count": 25,
   "id": "7dc19e9e-e565-43e9-a96f-34be4473e111",
   "metadata": {},
   "outputs": [
    {
     "data": {
      "text/plain": [
       "array([[0.29908175],\n",
       "       [0.29339131],\n",
       "       [0.03592654],\n",
       "       [0.186794  ],\n",
       "       [0.21703798],\n",
       "       [0.24184015],\n",
       "       [0.32590969],\n",
       "       [0.20148545],\n",
       "       [0.19630868],\n",
       "       [0.22839443],\n",
       "       [0.29079446],\n",
       "       [0.25655189],\n",
       "       [0.31179022],\n",
       "       [0.22461738],\n",
       "       [0.25664387],\n",
       "       [0.29460741],\n",
       "       [0.3037413 ],\n",
       "       [0.28326263],\n",
       "       [0.24904444],\n",
       "       [0.27556273],\n",
       "       [0.26423668],\n",
       "       [0.25668579],\n",
       "       [0.29268093],\n",
       "       [0.29289425],\n",
       "       [0.32680686],\n",
       "       [0.22456182],\n",
       "       [0.21163841],\n",
       "       [0.32820757],\n",
       "       [0.30215544],\n",
       "       [0.16583139],\n",
       "       [0.19693321],\n",
       "       [0.32731764],\n",
       "       [0.29241749],\n",
       "       [0.29099743],\n",
       "       [0.30203289],\n",
       "       [0.19756705],\n",
       "       [0.26313752],\n",
       "       [0.24776055],\n",
       "       [0.34498053],\n",
       "       [0.21207812],\n",
       "       [0.21199724],\n",
       "       [0.20068725],\n",
       "       [0.19517214],\n",
       "       [0.28186522],\n",
       "       [0.23688704],\n",
       "       [0.24293706],\n",
       "       [0.16781668],\n",
       "       [0.22752496],\n",
       "       [0.29110251],\n",
       "       [0.21953935],\n",
       "       [0.32907364],\n",
       "       [0.21837226],\n",
       "       [0.24888049],\n",
       "       [0.19726628],\n",
       "       [0.2835883 ],\n",
       "       [0.25824989],\n",
       "       [0.2377027 ],\n",
       "       [0.23798761],\n",
       "       [0.31943109],\n",
       "       [0.17738829],\n",
       "       [0.30455035],\n",
       "       [0.29301939],\n",
       "       [0.19430225],\n",
       "       [0.22727685],\n",
       "       [0.27237757],\n",
       "       [0.21849968],\n",
       "       [0.28269722],\n",
       "       [0.22947893],\n",
       "       [0.16077491],\n",
       "       [0.29270309],\n",
       "       [0.27337859],\n",
       "       [0.31073939],\n",
       "       [0.21056998],\n",
       "       [0.2477842 ],\n",
       "       [0.33061351],\n",
       "       [0.33798644],\n",
       "       [0.28296562],\n",
       "       [0.32807823],\n",
       "       [0.28745172],\n",
       "       [0.28517944],\n",
       "       [0.23565524],\n",
       "       [0.29103452],\n",
       "       [0.29688891],\n",
       "       [0.22504039],\n",
       "       [0.24248307],\n",
       "       [0.25195183],\n",
       "       [0.27305056],\n",
       "       [0.25898742],\n",
       "       [0.28294803],\n",
       "       [0.25988545],\n",
       "       [0.14116329],\n",
       "       [0.26401138],\n",
       "       [0.17637256],\n",
       "       [0.21760533],\n",
       "       [0.20809005],\n",
       "       [0.23597257],\n",
       "       [0.31763893],\n",
       "       [0.33108065],\n",
       "       [0.18280841],\n",
       "       [0.37481419]])"
      ]
     },
     "execution_count": 25,
     "metadata": {},
     "output_type": "execute_result"
    }
   ],
   "source": [
    "modele(X,theta)"
   ]
  },
  {
   "cell_type": "code",
   "execution_count": 27,
   "id": "922d3167-2d32-4fd6-8d58-4e433c9faa08",
   "metadata": {},
   "outputs": [
    {
     "data": {
      "text/plain": [
       "<matplotlib.collections.PathCollection at 0x22657c86e40>"
      ]
     },
     "execution_count": 27,
     "metadata": {},
     "output_type": "execute_result"
    },
    {
     "data": {
      "image/png": "[encoded data removed]",
      "text/plain": [
       "<Figure size 640x480 with 1 Axes>"
      ]
     },
     "metadata": {},
     "output_type": "display_data"
    }
   ],
   "source": [
    "plt.scatter(x,y)"
   ]
  },
  {
   "cell_type": "code",
   "execution_count": 29,
   "id": "b0b0b000-b1a7-4de9-b963-df76cc13e17e",
   "metadata": {},
   "outputs": [
    {
     "data": {
      "text/plain": [
       "[<matplotlib.lines.Line2D at 0x22658520e00>]"
      ]
     },
     "execution_count": 29,
     "metadata": {},
     "output_type": "execute_result"
    },
    {
     "data": {
      "image/png": "[encoded data removed]",
      "text/plain": [
       "<Figure size 640x480 with 1 Axes>"
      ]
     },
     "metadata": {},
     "output_type": "display_data"
    }
   ],
   "source": [
    "plt.plot(x,modele(X,theta),c='r')"
   ]
  },
  {
   "cell_type": "code",
   "execution_count": 31,
   "id": "b794bcae-dd49-4069-922a-108ad105d94f",
   "metadata": {},
   "outputs": [
    {
     "data": {
      "text/plain": [
       "[<matplotlib.lines.Line2D at 0x22657d02e40>]"
      ]
     },
     "execution_count": 31,
     "metadata": {},
     "output_type": "execute_result"
    },
    {
     "data": {
      "image/png": "[encoded data removed]",
      "text/plain": [
       "<Figure size 640x480 with 1 Axes>"
      ]
     },
     "metadata": {},
     "output_type": "display_data"
    }
   ],
   "source": [
    "#on regroupe les deux ça donne \n",
    "plt.scatter(x,y)\n",
    "plt.plot(x,modele(X,theta),c='r')"
   ]
  },
  {
   "cell_type": "code",
   "execution_count": 33,
   "id": "30cfd0e0-b305-4281-8d6d-557ca392ece8",
   "metadata": {},
   "outputs": [],
   "source": [
    "#fontion cout"
   ]
  },
  {
   "cell_type": "code",
   "execution_count": 35,
   "id": "4ee41b5d-14eb-456d-8767-017ac7998d09",
   "metadata": {},
   "outputs": [],
   "source": [
    "def cost_func (X,y,theta):\n",
    "    m=len(y)\n",
    "    return 1/(2*m) * np.sum((modele(X,theta)-y)**2)"
   ]
  },
  {
   "cell_type": "code",
   "execution_count": 37,
   "id": "50c87eb2-2a3e-4596-b25f-3349ce23d1b6",
   "metadata": {},
   "outputs": [
    {
     "data": {
      "text/plain": [
       "1442.6173012117993"
      ]
     },
     "execution_count": 37,
     "metadata": {},
     "output_type": "execute_result"
    }
   ],
   "source": [
    "cost_func(X,y,theta)"
   ]
  },
  {
   "cell_type": "code",
   "execution_count": 39,
   "id": "8c566a8a-229e-44dc-b248-de5439af8030",
   "metadata": {},
   "outputs": [],
   "source": [
    "#calcule du graditent algo minimisation "
   ]
  },
  {
   "cell_type": "code",
   "execution_count": 41,
   "id": "678e566e-b199-4762-bc72-7d94ed7a443e",
   "metadata": {},
   "outputs": [],
   "source": [
    "def grad(X,y,theta):\n",
    "    m=len(y)\n",
    "    return 1/m * X.T.dot(modele(X,theta)-y)\n",
    "    "
   ]
  },
  {
   "cell_type": "code",
   "execution_count": 43,
   "id": "9a5aa64d-1e46-4d10-abf2-f1f2b903abce",
   "metadata": {},
   "outputs": [],
   "source": [
    "def grad_decent(X,y,theta,learning_rate,n_iterations):\n",
    "    cost_history=np.zeros(n_iterations)\n",
    "    for i in range(0,n_iterations):\n",
    "        theta=theta - learning_rate * grad(X,y,theta)\n",
    "        cost_history[i]=cost_func(X,y,theta)\n",
    "    return theta , cost_history\n"
   ]
  },
  {
   "cell_type": "code",
   "execution_count": 45,
   "id": "9736190e-6573-46b2-85cd-4699db500231",
   "metadata": {},
   "outputs": [],
   "source": [
    "#Entrainement du modèle \"MACHINE LEARNING\"\n",
    "theta_final, cost_history =grad_decent(X,y,theta,learning_rate=0.1,n_iterations=1000)\n",
    "#learning rate peut donner un résultats de plus en plus prècis "
   ]
  },
  {
   "cell_type": "code",
   "execution_count": 47,
   "id": "d5cadd0b-4324-4b2c-b012-45fab9e06d48",
   "metadata": {},
   "outputs": [
    {
     "data": {
      "text/plain": [
       "array([[51.24461857],\n",
       "       [-0.89583031]])"
      ]
     },
     "execution_count": 47,
     "metadata": {},
     "output_type": "execute_result"
    }
   ],
   "source": [
    "theta_final"
   ]
  },
  {
   "cell_type": "code",
   "execution_count": 49,
   "id": "ab30f45b-9dcb-4027-9512-17334b458f34",
   "metadata": {},
   "outputs": [
    {
     "data": {
      "text/plain": [
       "[<matplotlib.lines.Line2D at 0x22657da0560>]"
      ]
     },
     "execution_count": 49,
     "metadata": {},
     "output_type": "execute_result"
    },
    {
     "data": {
      "image/png": "[encoded data removed]",
      "text/plain": [
       "<Figure size 640x480 with 1 Axes>"
      ]
     },
     "metadata": {},
     "output_type": "display_data"
    }
   ],
   "source": [
    "prediction=modele(X,theta_final)\n",
    "plt.scatter(x,y)\n",
    "plt.plot(x,prediction,c='r')"
   ]
  },
  {
   "cell_type": "code",
   "execution_count": 51,
   "id": "d5a5f840-049e-4f12-a5b2-a16f3b7c079d",
   "metadata": {},
   "outputs": [],
   "source": [
    "#courbe d'apprentissage en fonction des iterations en abssice"
   ]
  },
  {
   "cell_type": "code",
   "execution_count": 53,
   "id": "55239c9f-4841-45d6-9b9c-a3d3afc31724",
   "metadata": {},
   "outputs": [
    {
     "data": {
      "text/plain": [
       "[<matplotlib.lines.Line2D at 0x22657da1c40>]"
      ]
     },
     "execution_count": 53,
     "metadata": {},
     "output_type": "execute_result"
    },
    {
     "data": {
      "image/png": "[encoded data removed]",
      "text/plain": [
       "<Figure size 640x480 with 1 Axes>"
      ]
     },
     "metadata": {},
     "output_type": "display_data"
    }
   ],
   "source": [
    "plt.plot(range(1000),cost_history)"
   ]
  },
  {
   "cell_type": "code",
   "execution_count": 55,
   "id": "34aff7f3-a4dc-4f4c-82ec-4e2651ff6c19",
   "metadata": {},
   "outputs": [],
   "source": [
    "#Coefficient de détermination "
   ]
  },
  {
   "cell_type": "code",
   "execution_count": 57,
   "id": "5d30a2b8-6f13-41d7-9aee-7999c156b179",
   "metadata": {},
   "outputs": [],
   "source": [
    "def coef_determination(y,pred):\n",
    "    u=((y-pred)**2).sum()\n",
    "    v=((y-y.mean())**2).sum()\n",
    "    return 1-u/v"
   ]
  },
  {
   "cell_type": "code",
   "execution_count": 59,
   "id": "1d229802-2f24-4d6b-81a0-9fe016f9f0fe",
   "metadata": {},
   "outputs": [
    {
     "data": {
      "text/plain": [
       "0.9633374000057603"
      ]
     },
     "execution_count": 59,
     "metadata": {},
     "output_type": "execute_result"
    }
   ],
   "source": [
    "coef_determination(y,prediction)\n",
    "#plus proche de 1 plus performant "
   ]
  },
  {
   "cell_type": "code",
   "execution_count": null,
   "id": "da860488-bd12-49dd-91b9-f1d0a6192cee",
   "metadata": {},
   "outputs": [],
   "source": []
  },
  {
   "cell_type": "code",
   "execution_count": null,
   "id": "0677269f-5be7-489a-bf69-da93d913262b",
   "metadata": {},
   "outputs": [],
   "source": []
  },
  {
   "cell_type": "code",
   "execution_count": null,
   "id": "b55d1dd6-8676-46ca-8527-8d57ee6603af",
   "metadata": {},
   "outputs": [],
   "source": []
  }
 ],
 "metadata": {
  "kernelspec": {
   "display_name": "Python 3 (ipykernel)",
   "language": "python",
   "name": "python3"
  },
  "language_info": {
   "codemirror_mode": {
    "name": "ipython",
    "version": 3
   },
   "file_extension": ".py",
   "mimetype": "text/x-python",
   "name": "python",
   "nbconvert_exporter": "python",
   "pygments_lexer": "ipython3",
   "version": "3.12.7"
  }
 },
 "nbformat": 4,
 "nbformat_minor": 5
}
