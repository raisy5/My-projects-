{
 "cells": [
  {
   "cell_type": "code",
   "execution_count": 1,
   "id": "8fb2f7c4-09ba-4940-947e-9aa38d35d063",
   "metadata": {},
   "outputs": [],
   "source": [
    "import numpy as np"
   ]
  },
  {
   "cell_type": "code",
   "execution_count": 2,
   "id": "0405e8f8-9534-42ef-9a22-a7d4991d5059",
   "metadata": {},
   "outputs": [
    {
     "ename": "ModuleNotFoundError",
     "evalue": "No module named 'sklearn'",
     "output_type": "error",
     "traceback": [
      "\u001b[1;31m---------------------------------------------------------------------------\u001b[0m",
      "\u001b[1;31mModuleNotFoundError\u001b[0m                       Traceback (most recent call last)",
      "Cell \u001b[1;32mIn[2], line 1\u001b[0m\n\u001b[1;32m----> 1\u001b[0m \u001b[38;5;28;01mfrom\u001b[39;00m \u001b[38;5;21;01msklearn\u001b[39;00m\u001b[38;5;21;01m.\u001b[39;00m\u001b[38;5;21;01mdatasets\u001b[39;00m \u001b[38;5;28;01mimport\u001b[39;00m make_regression \u001b[38;5;66;03m#data set aléatoire \u001b[39;00m\n",
      "\u001b[1;31mModuleNotFoundError\u001b[0m: No module named 'sklearn'"
     ]
    }
   ],
   "source": [
    "from sklearn.datasets import make_regression #data set aléatoire "
   ]
  },
  {
   "cell_type": "code",
   "execution_count": 7,
   "id": "ff7470af-50a9-497b-ab43-4d84ae8293de",
   "metadata": {},
   "outputs": [],
   "source": [
    "import matplotlib.pyplot as plt #bibliotheque pour visualisé nos données "
   ]
  },
  {
   "cell_type": "code",
   "execution_count": 66,
   "id": "e140c912-d4fb-41d7-a34f-147994647844",
   "metadata": {},
   "outputs": [
    {
     "data": {
      "text/plain": [
       "<matplotlib.collections.PathCollection at 0x1a17e353020>"
      ]
     },
     "execution_count": 66,
     "metadata": {},
     "output_type": "execute_result"
    },
    {
     "data": {
      "image/png": "[encoded data removed]",
      "text/plain": [
       "<Figure size 640x480 with 1 Axes>"
      ]
     },
     "metadata": {},
     "output_type": "display_data"
    }
   ],
   "source": [
    "#1/Dataset \n",
    "x,y =make_regression(n_samples =100 ,n_features=1 ,noise=10 )#nbvdonnées et nb variable et le bruit\n",
    "plt.scatter(x,y) # x en abssice et y en ordonné "
   ]
  },
  {
   "cell_type": "code",
   "execution_count": 210,
   "id": "08946255-41b6-4d1c-bc96-15e7f8d19786",
   "metadata": {},
   "outputs": [
    {
     "name": "stdout",
     "output_type": "stream",
     "text": [
      "(100, 1)\n",
      "(100, 1)\n"
     ]
    }
   ],
   "source": [
    "print(x.shape)\n",
    "print(y.shape)\n",
    "#important de verifier les dimensions des matrices car sinon\n",
    "#ça va faire du n'importe quoi elle va afficher à la fin des traits partout et pour chaque valeur"
   ]
  },
  {
   "cell_type": "code",
   "execution_count": 212,
   "id": "8322c10a-b5ef-4f55-8c89-ca1db284443d",
   "metadata": {},
   "outputs": [
    {
     "name": "stdout",
     "output_type": "stream",
     "text": [
      "(100, 1)\n"
     ]
    }
   ],
   "source": [
    "y=y.reshape(y.shape[0],1)\n",
    "print(y.shape)"
   ]
  },
  {
   "cell_type": "code",
   "execution_count": 214,
   "id": "0e9cd587-61e8-4ce9-966d-a9a170092f7e",
   "metadata": {},
   "outputs": [
    {
     "data": {
      "text/plain": [
       "array([[-0.12619613,  1.        ],\n",
       "       [ 0.50366749,  1.        ],\n",
       "       [-0.48765367,  1.        ],\n",
       "       [ 1.20247126,  1.        ],\n",
       "       [ 0.05254562,  1.        ],\n",
       "       [ 0.18663415,  1.        ],\n",
       "       [-0.90803771,  1.        ],\n",
       "       [ 0.58199283,  1.        ],\n",
       "       [-0.21264169,  1.        ],\n",
       "       [ 0.0046634 ,  1.        ],\n",
       "       [ 1.42470988,  1.        ],\n",
       "       [-0.43916515,  1.        ],\n",
       "       [-0.40141298,  1.        ],\n",
       "       [-0.25275544,  1.        ],\n",
       "       [ 1.36802693,  1.        ],\n",
       "       [ 0.03320067,  1.        ],\n",
       "       [ 1.57247817,  1.        ],\n",
       "       [-0.19483867,  1.        ],\n",
       "       [-0.11016353,  1.        ],\n",
       "       [ 0.07923229,  1.        ],\n",
       "       [-0.29935857,  1.        ],\n",
       "       [ 1.57673515,  1.        ],\n",
       "       [-1.93789636,  1.        ],\n",
       "       [ 0.09422043,  1.        ],\n",
       "       [ 0.02044889,  1.        ],\n",
       "       [ 0.09425169,  1.        ],\n",
       "       [ 0.98679633,  1.        ],\n",
       "       [ 1.32163497,  1.        ],\n",
       "       [ 0.5017308 ,  1.        ],\n",
       "       [ 0.07955561,  1.        ],\n",
       "       [-0.08365022,  1.        ],\n",
       "       [-0.19714166,  1.        ],\n",
       "       [ 1.77369686,  1.        ],\n",
       "       [-0.23371356,  1.        ],\n",
       "       [ 0.62740478,  1.        ],\n",
       "       [ 0.30262324,  1.        ],\n",
       "       [ 0.97283406,  1.        ],\n",
       "       [-0.5310957 ,  1.        ],\n",
       "       [-0.64910321,  1.        ],\n",
       "       [ 0.23937081,  1.        ],\n",
       "       [-0.85211826,  1.        ],\n",
       "       [-1.49401018,  1.        ],\n",
       "       [-0.56467517,  1.        ],\n",
       "       [ 0.45179296,  1.        ],\n",
       "       [-0.92332634,  1.        ],\n",
       "       [ 1.06399241,  1.        ],\n",
       "       [ 1.85606164,  1.        ],\n",
       "       [ 1.60492294,  1.        ],\n",
       "       [ 0.13805135,  1.        ],\n",
       "       [-2.0649896 ,  1.        ],\n",
       "       [ 0.20680883,  1.        ],\n",
       "       [-1.54095481,  1.        ],\n",
       "       [-0.86087795,  1.        ],\n",
       "       [-0.26750126,  1.        ],\n",
       "       [-2.49400041,  1.        ],\n",
       "       [-0.20101305,  1.        ],\n",
       "       [ 1.55409151,  1.        ],\n",
       "       [ 0.69732043,  1.        ],\n",
       "       [ 1.22599385,  1.        ],\n",
       "       [ 0.62683696,  1.        ],\n",
       "       [ 0.88376314,  1.        ],\n",
       "       [-1.47446258,  1.        ],\n",
       "       [-0.75658768,  1.        ],\n",
       "       [ 1.01997743,  1.        ],\n",
       "       [ 1.73309225,  1.        ],\n",
       "       [-0.1169221 ,  1.        ],\n",
       "       [-2.50804132,  1.        ],\n",
       "       [ 0.19914645,  1.        ],\n",
       "       [ 0.1267597 ,  1.        ],\n",
       "       [ 1.16560957,  1.        ],\n",
       "       [ 1.55804232,  1.        ],\n",
       "       [ 0.18295918,  1.        ],\n",
       "       [ 1.40795294,  1.        ],\n",
       "       [-0.70185278,  1.        ],\n",
       "       [-0.1170322 ,  1.        ],\n",
       "       [ 0.35871148,  1.        ],\n",
       "       [-1.25372356,  1.        ],\n",
       "       [-0.35556795,  1.        ],\n",
       "       [-1.2506856 ,  1.        ],\n",
       "       [ 0.10017043,  1.        ],\n",
       "       [ 0.73374988,  1.        ],\n",
       "       [ 0.41981675,  1.        ],\n",
       "       [-0.18929144,  1.        ],\n",
       "       [ 0.79073765,  1.        ],\n",
       "       [ 0.10181033,  1.        ],\n",
       "       [ 1.30957716,  1.        ],\n",
       "       [ 0.45475679,  1.        ],\n",
       "       [ 0.73170606,  1.        ],\n",
       "       [ 1.93035737,  1.        ],\n",
       "       [-1.70657258,  1.        ],\n",
       "       [-2.22889271,  1.        ],\n",
       "       [-0.62855649,  1.        ],\n",
       "       [ 0.52844895,  1.        ],\n",
       "       [-0.11975701,  1.        ],\n",
       "       [-0.35144038,  1.        ],\n",
       "       [ 0.89609912,  1.        ],\n",
       "       [ 2.0349941 ,  1.        ],\n",
       "       [ 0.85513749,  1.        ],\n",
       "       [-0.4295231 ,  1.        ],\n",
       "       [-0.64580863,  1.        ]])"
      ]
     },
     "execution_count": 214,
     "metadata": {},
     "output_type": "execute_result"
    }
   ],
   "source": [
    "#matrice \n",
    "X=np.hstack((x, np.ones(x.shape)))\n",
    "X"
   ]
  },
  {
   "cell_type": "code",
   "execution_count": 184,
   "id": "9e2077b1-1c14-415d-90c3-e8a565b80dcf",
   "metadata": {},
   "outputs": [
    {
     "data": {
      "text/plain": [
       "array([[1.23501266],\n",
       "       [0.66703089]])"
      ]
     },
     "execution_count": 184,
     "metadata": {},
     "output_type": "execute_result"
    }
   ],
   "source": [
    "theta =np.random.randn(2,1)\n",
    "theta"
   ]
  },
  {
   "cell_type": "code",
   "execution_count": 74,
   "id": "1b7421c1-2ff0-455f-a75c-f071ae091aa0",
   "metadata": {},
   "outputs": [],
   "source": [
    "#modele"
   ]
  },
  {
   "cell_type": "code",
   "execution_count": 186,
   "id": "0290c85a-040d-4a5d-a1d7-c12142beac70",
   "metadata": {},
   "outputs": [],
   "source": [
    "def modele(X,theta):\n",
    "    return X.dot(theta)"
   ]
  },
  {
   "cell_type": "code",
   "execution_count": 188,
   "id": "7dc19e9e-e565-43e9-a96f-34be4473e111",
   "metadata": {},
   "outputs": [
    {
     "data": {
      "text/plain": [
       "array([[ 0.51117708],\n",
       "       [ 1.28906662],\n",
       "       [ 0.06477244],\n",
       "       [ 2.15209812],\n",
       "       [ 0.73192539],\n",
       "       [ 0.89752644],\n",
       "       [-0.45440717],\n",
       "       [ 1.38579941],\n",
       "       [ 0.40441571],\n",
       "       [ 0.67279025],\n",
       "       [ 2.42656564],\n",
       "       [ 0.12465637],\n",
       "       [ 0.17128078],\n",
       "       [ 0.35487473],\n",
       "       [ 2.35656147],\n",
       "       [ 0.70803413],\n",
       "       [ 2.60906134],\n",
       "       [ 0.42640266],\n",
       "       [ 0.53097754],\n",
       "       [ 0.76488377],\n",
       "       [ 0.29731926],\n",
       "       [ 2.61431877],\n",
       "       [-1.72629564],\n",
       "       [ 0.78339431],\n",
       "       [ 0.69228553],\n",
       "       [ 0.78343293],\n",
       "       [ 1.88573685],\n",
       "       [ 2.29926681],\n",
       "       [ 1.28667478],\n",
       "       [ 0.76528308],\n",
       "       [ 0.56372181],\n",
       "       [ 0.42355845],\n",
       "       [ 2.85756897],\n",
       "       [ 0.37839169],\n",
       "       [ 1.44188374],\n",
       "       [ 1.04077443],\n",
       "       [ 1.86849327],\n",
       "       [ 0.01112098],\n",
       "       [-0.1346198 ],\n",
       "       [ 0.96265687],\n",
       "       [-0.38534595],\n",
       "       [-1.1780906 ],\n",
       "       [-0.03035009],\n",
       "       [ 1.22500092],\n",
       "       [-0.47328883],\n",
       "       [ 1.98107498],\n",
       "       [ 2.95929051],\n",
       "       [ 2.64913104],\n",
       "       [ 0.83752606],\n",
       "       [-1.88325741],\n",
       "       [ 0.92244242],\n",
       "       [-1.23606781],\n",
       "       [-0.39616428],\n",
       "       [ 0.33666345],\n",
       "       [-2.41309119],\n",
       "       [ 0.41877723],\n",
       "       [ 2.58635359],\n",
       "       [ 1.52823045],\n",
       "       [ 2.18114882],\n",
       "       [ 1.44118247],\n",
       "       [ 1.75848956],\n",
       "       [-1.15394906],\n",
       "       [-0.26736447],\n",
       "       [ 1.92671593],\n",
       "       [ 2.80742176],\n",
       "       [ 0.52263062],\n",
       "       [-2.4304319 ],\n",
       "       [ 0.91297927],\n",
       "       [ 0.82358072],\n",
       "       [ 2.10657347],\n",
       "       [ 2.59123288],\n",
       "       [ 0.8929878 ],\n",
       "       [ 2.4058706 ],\n",
       "       [-0.19976617],\n",
       "       [ 0.52249464],\n",
       "       [ 1.11004411],\n",
       "       [-0.88133358],\n",
       "       [ 0.22789997],\n",
       "       [-0.87758166],\n",
       "       [ 0.79074264],\n",
       "       [ 1.57322128],\n",
       "       [ 1.1855099 ],\n",
       "       [ 0.43325356],\n",
       "       [ 1.64360191],\n",
       "       [ 0.79276794],\n",
       "       [ 2.28437526],\n",
       "       [ 1.22866128],\n",
       "       [ 1.57069714],\n",
       "       [ 3.05104668],\n",
       "       [-1.44060785],\n",
       "       [-2.08567982],\n",
       "       [-0.10924434],\n",
       "       [ 1.31967204],\n",
       "       [ 0.51912947],\n",
       "       [ 0.23299757],\n",
       "       [ 1.77372465],\n",
       "       [ 3.18027437],\n",
       "       [ 1.72313652],\n",
       "       [ 0.13656443],\n",
       "       [-0.13055094]])"
      ]
     },
     "execution_count": 188,
     "metadata": {},
     "output_type": "execute_result"
    }
   ],
   "source": [
    "modele(X,theta)"
   ]
  },
  {
   "cell_type": "code",
   "execution_count": 190,
   "id": "922d3167-2d32-4fd6-8d58-4e433c9faa08",
   "metadata": {},
   "outputs": [
    {
     "data": {
      "text/plain": [
       "<matplotlib.collections.PathCollection at 0x1a17f7314f0>"
      ]
     },
     "execution_count": 190,
     "metadata": {},
     "output_type": "execute_result"
    },
    {
     "data": {
      "image/png": "[encoded data removed]",
      "text/plain": [
       "<Figure size 640x480 with 1 Axes>"
      ]
     },
     "metadata": {},
     "output_type": "display_data"
    }
   ],
   "source": [
    "plt.scatter(x,y)"
   ]
  },
  {
   "cell_type": "code",
   "execution_count": 192,
   "id": "b0b0b000-b1a7-4de9-b963-df76cc13e17e",
   "metadata": {},
   "outputs": [
    {
     "data": {
      "text/plain": [
       "[<matplotlib.lines.Line2D at 0x1a1009ec1a0>]"
      ]
     },
     "execution_count": 192,
     "metadata": {},
     "output_type": "execute_result"
    },
    {
     "data": {
      "image/png": "[encoded data removed]",
      "text/plain": [
       "<Figure size 640x480 with 1 Axes>"
      ]
     },
     "metadata": {},
     "output_type": "display_data"
    }
   ],
   "source": [
    "plt.plot(x,modele(X,theta),c='r')"
   ]
  },
  {
   "cell_type": "code",
   "execution_count": 194,
   "id": "b794bcae-dd49-4069-922a-108ad105d94f",
   "metadata": {},
   "outputs": [
    {
     "data": {
      "text/plain": [
       "[<matplotlib.lines.Line2D at 0x1a100a2b260>]"
      ]
     },
     "execution_count": 194,
     "metadata": {},
     "output_type": "execute_result"
    },
    {
     "data": {
      "image/png": "[encoded data removed]",
      "text/plain": [
       "<Figure size 640x480 with 1 Axes>"
      ]
     },
     "metadata": {},
     "output_type": "display_data"
    }
   ],
   "source": [
    "#on regroupe les deux ça donne \n",
    "plt.scatter(x,y)\n",
    "plt.plot(x,modele(X,theta),c='r')"
   ]
  },
  {
   "cell_type": "code",
   "execution_count": 90,
   "id": "30cfd0e0-b305-4281-8d6d-557ca392ece8",
   "metadata": {},
   "outputs": [],
   "source": [
    "#fontion cout"
   ]
  },
  {
   "cell_type": "code",
   "execution_count": 196,
   "id": "4ee41b5d-14eb-456d-8767-017ac7998d09",
   "metadata": {},
   "outputs": [],
   "source": [
    "def cost_func (X,y,theta):\n",
    "    m=len(y)\n",
    "    return 1/(2*m) * np.sum((modele(X,theta)-y)**2)"
   ]
  },
  {
   "cell_type": "code",
   "execution_count": 198,
   "id": "50c87eb2-2a3e-4596-b25f-3349ce23d1b6",
   "metadata": {},
   "outputs": [
    {
     "data": {
      "text/plain": [
       "517.28666670606"
      ]
     },
     "execution_count": 198,
     "metadata": {},
     "output_type": "execute_result"
    }
   ],
   "source": [
    "cost_func(X,y,theta)"
   ]
  },
  {
   "cell_type": "code",
   "execution_count": 102,
   "id": "8c566a8a-229e-44dc-b248-de5439af8030",
   "metadata": {},
   "outputs": [],
   "source": [
    "#calcule du graditent algo minimisation "
   ]
  },
  {
   "cell_type": "code",
   "execution_count": 200,
   "id": "678e566e-b199-4762-bc72-7d94ed7a443e",
   "metadata": {},
   "outputs": [],
   "source": [
    "def grad(X,y,theta):\n",
    "    m=len(y)\n",
    "    return 1/m * X.T.dot(modele(X,theta)-y)\n",
    "    "
   ]
  },
  {
   "cell_type": "code",
   "execution_count": 240,
   "id": "9a5aa64d-1e46-4d10-abf2-f1f2b903abce",
   "metadata": {},
   "outputs": [],
   "source": [
    "def grad_decent(X,y,theta,learning_rate,n_iterations):\n",
    "    cost_history=np.zeros(n_iterations)\n",
    "    for i in range(0,n_iterations):\n",
    "        theta=theta - learning_rate * grad(X,y,theta)\n",
    "        cost_history[i]=cost_func(X,y,theta)\n",
    "    return theta , cost_history\n"
   ]
  },
  {
   "cell_type": "code",
   "execution_count": 242,
   "id": "9736190e-6573-46b2-85cd-4699db500231",
   "metadata": {},
   "outputs": [],
   "source": [
    "#Entrainement du modèle \"MACHINE LEARNING\"\n",
    "theta_final, cost_history =grad_decent(X,y,theta,learning_rate=0.1,n_iterations=1000)\n",
    "#learning rate peut donner un résultats de plus en plus prècis "
   ]
  },
  {
   "cell_type": "code",
   "execution_count": 228,
   "id": "d5cadd0b-4324-4b2c-b012-45fab9e06d48",
   "metadata": {},
   "outputs": [
    {
     "data": {
      "text/plain": [
       "array([[32.09087187],\n",
       "       [-1.02487352]])"
      ]
     },
     "execution_count": 228,
     "metadata": {},
     "output_type": "execute_result"
    }
   ],
   "source": [
    "theta_final"
   ]
  },
  {
   "cell_type": "code",
   "execution_count": 230,
   "id": "ab30f45b-9dcb-4027-9512-17334b458f34",
   "metadata": {},
   "outputs": [
    {
     "data": {
      "text/plain": [
       "[<matplotlib.lines.Line2D at 0x1a100552de0>]"
      ]
     },
     "execution_count": 230,
     "metadata": {},
     "output_type": "execute_result"
    },
    {
     "data": {
      "image/png": "[encoded data removed]",
      "text/plain": [
       "<Figure size 640x480 with 1 Axes>"
      ]
     },
     "metadata": {},
     "output_type": "display_data"
    }
   ],
   "source": [
    "prediction=modele(X,theta_final)\n",
    "plt.scatter(x,y)\n",
    "plt.plot(x,prediction,c='r')"
   ]
  },
  {
   "cell_type": "code",
   "execution_count": 246,
   "id": "d5a5f840-049e-4f12-a5b2-a16f3b7c079d",
   "metadata": {},
   "outputs": [],
   "source": [
    "#courbe d'apprentissage en fonction des iterations en abssice"
   ]
  },
  {
   "cell_type": "code",
   "execution_count": 244,
   "id": "55239c9f-4841-45d6-9b9c-a3d3afc31724",
   "metadata": {},
   "outputs": [
    {
     "data": {
      "text/plain": [
       "[<matplotlib.lines.Line2D at 0x1a1005c87d0>]"
      ]
     },
     "execution_count": 244,
     "metadata": {},
     "output_type": "execute_result"
    },
    {
     "data": {
      "image/png": "[encoded data removed]",
      "text/plain": [
       "<Figure size 640x480 with 1 Axes>"
      ]
     },
     "metadata": {},
     "output_type": "display_data"
    }
   ],
   "source": [
    "plt.plot(range(1000),cost_history)"
   ]
  },
  {
   "cell_type": "code",
   "execution_count": 248,
   "id": "34aff7f3-a4dc-4f4c-82ec-4e2651ff6c19",
   "metadata": {},
   "outputs": [],
   "source": [
    "#Coefficient de détermination "
   ]
  },
  {
   "cell_type": "code",
   "execution_count": 250,
   "id": "5d30a2b8-6f13-41d7-9aee-7999c156b179",
   "metadata": {},
   "outputs": [],
   "source": [
    "def coef_determination(y,pred):\n",
    "    u=((y-pred)**2).sum()\n",
    "    v=((y-y.mean())**2).sum()\n",
    "    return 1-u/v"
   ]
  },
  {
   "cell_type": "code",
   "execution_count": 254,
   "id": "1d229802-2f24-4d6b-81a0-9fe016f9f0fe",
   "metadata": {},
   "outputs": [
    {
     "data": {
      "text/plain": [
       "0.9265036359484273"
      ]
     },
     "execution_count": 254,
     "metadata": {},
     "output_type": "execute_result"
    }
   ],
   "source": [
    "coef_determination(y,prediction)\n",
    "#plus proche de 1 plus performant "
   ]
  },
  {
   "cell_type": "code",
   "execution_count": null,
   "id": "da860488-bd12-49dd-91b9-f1d0a6192cee",
   "metadata": {},
   "outputs": [],
   "source": []
  }
 ],
 "metadata": {
  "kernelspec": {
   "display_name": "Python 3",
   "language": "python",
   "name": "python3"
  },
  "language_info": {
   "codemirror_mode": {
    "name": "ipython",
    "version": 3
   },
   "file_extension": ".py",
   "mimetype": "text/x-python",
   "name": "python",
   "nbconvert_exporter": "python",
   "pygments_lexer": "ipython3",
   "version": "3.9.13"
  }
 },
 "nbformat": 4,
 "nbformat_minor": 5
}
